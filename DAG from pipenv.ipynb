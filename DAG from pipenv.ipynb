{
 "cells": [
  {
   "cell_type": "markdown",
   "metadata": {},
   "source": [
    "# Dependency Graphs\n",
    "\n",
    "This is a notebook to experiment with a set of dependency graphs. These graphs have been created from Python applications and they reflect graphs with different versions of package. We call these graphs of versioned packages a 'stack'."
   ]
  },
  {
   "cell_type": "markdown",
   "metadata": {},
   "source": [
    "First of all we will include all the required modules and configure matplotlib to draw diagrams inlined in this notebook."
   ]
  },
  {
   "cell_type": "code",
   "execution_count": null,
   "metadata": {},
   "outputs": [],
   "source": [
    "import json\n",
    "\n",
    "import networkx as nx\n",
    "from networkx.algorithms.operators.binary import compose\n",
    "from networkx.readwrite import json_graph\n",
    "import matplotlib.pyplot as plt\n",
    "\n",
    "%matplotlib inline"
   ]
  },
  {
   "cell_type": "markdown",
   "metadata": {},
   "source": [
    "Now we define a function that will read the output of `pipenv graph --json` from a file and create the equivalent graph using `networkx`."
   ]
  },
  {
   "cell_type": "code",
   "execution_count": null,
   "metadata": {},
   "outputs": [],
   "source": [
    "def graph_from_file(filename):\n",
    "    data = None\n",
    "    G = None\n",
    "    \n",
    "    with open(filename) as file:    \n",
    "        data = json.load(file)\n",
    "        \n",
    "    if data is not None:\n",
    "        G = nx.DiGraph()\n",
    "        for package in data:\n",
    "            _node_id = '{}-{}'.format(package['package']['key'], package['package']['installed_version'])\n",
    "            G.add_node(_node_id, name=package['package']['package_name'], version=package['package']['installed_version'])\n",
    "            \n",
    "            for dependency in package['dependencies']:\n",
    "                _dependency_node_id = '{}-{}'.format(dependency['key'], dependency['installed_version'])\n",
    "                G.add_node(_dependency_node_id, name=dependency['package_name'], version=dependency['installed_version'])\n",
    "                G.add_edge(_node_id, _dependency_node_id, relation='depends_on')\n",
    "                \n",
    "    return G"
   ]
  },
  {
   "cell_type": "markdown",
   "metadata": {},
   "source": [
    "We will read a set of files from the `fixtures/` directory:"
   ]
  },
  {
   "cell_type": "code",
   "execution_count": null,
   "metadata": {},
   "outputs": [],
   "source": [
    "PIPENV_GRAPH_FILES = ['fixtures/tensorflow-1.4.0.json', 'fixtures/tensorflow-1.4.1.json', \n",
    "                      'fixtures/tensorflow-1.3.0.json', 'fixtures/keras-2.1.2.json', \n",
    "                      'fixtures/keras-2.1.2-tensorflow-1.3.0.json']"
   ]
  },
  {
   "cell_type": "markdown",
   "metadata": {},
   "source": [
    "Each file will be read and added to our big huge global graph G."
   ]
  },
  {
   "cell_type": "code",
   "execution_count": null,
   "metadata": {},
   "outputs": [],
   "source": [
    "G = nx.DiGraph()\n",
    "\n",
    "for filename in PIPENV_GRAPH_FILES:\n",
    "    _H = graph_from_file(filename)\n",
    "    G = compose(G, _H)\n"
   ]
  },
  {
   "cell_type": "markdown",
   "metadata": {},
   "source": [
    "The next cell will draw the whole graph G, node labels are added. "
   ]
  },
  {
   "cell_type": "code",
   "execution_count": null,
   "metadata": {},
   "outputs": [],
   "source": [
    "plt.figure(figsize=(16, 9))\n",
    "plt.axis('off')\n",
    "\n",
    "pos = nx.spring_layout(G, iterations=20)\n",
    "labels=dict((n,d['name']) for n,d in G.nodes(data=True))\n",
    "\n",
    "nx.draw_networkx_nodes(G, pos, labels=labels, node_size=40, node_color='blue')\n",
    "nx.draw_networkx_edges(G, pos, alpha=0.2)\n",
    "nx.draw_networkx_labels(G, pos, fontsize=12)\n"
   ]
  },
  {
   "cell_type": "markdown",
   "metadata": {},
   "source": [
    "... and the next cell is just for debugging..."
   ]
  },
  {
   "cell_type": "code",
   "execution_count": null,
   "metadata": {},
   "outputs": [],
   "source": [
    "dataH = json_graph.node_link_data(G)\n",
    "\n",
    "json.dumps(dataH)"
   ]
  },
  {
   "cell_type": "code",
   "execution_count": null,
   "metadata": {},
   "outputs": [],
   "source": []
  }
 ],
 "metadata": {
  "kernelspec": {
   "display_name": "Python 3",
   "language": "python",
   "name": "python3"
  },
  "language_info": {
   "codemirror_mode": {
    "name": "ipython",
    "version": 3
   },
   "file_extension": ".py",
   "mimetype": "text/x-python",
   "name": "python",
   "nbconvert_exporter": "python",
   "pygments_lexer": "ipython3",
   "version": "3.6.4"
  }
 },
 "nbformat": 4,
 "nbformat_minor": 2
}
